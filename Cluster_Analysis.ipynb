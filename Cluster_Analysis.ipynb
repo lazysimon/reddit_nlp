{
 "cells": [
  {
   "cell_type": "code",
   "execution_count": 1,
   "metadata": {},
   "outputs": [],
   "source": [
    "import numpy as np\n",
    "import praw\n",
    "import pandas as pd \n",
    "import matplotlib.pyplot as plt\n",
    "import seaborn as sns\n",
    "import ast\n",
    "from time import time\n",
    "\n",
    "from sklearn.feature_extraction import text\n",
    "from sklearn.feature_extraction.text import TfidfVectorizer\n",
    "\n",
    "from sklearn.preprocessing import normalize\n",
    "from sklearn import preprocessing\n",
    "from sklearn.decomposition import TruncatedSVD\n",
    "from sklearn.cluster import KMeans\n",
    "from sklearn.pipeline import Pipeline, make_pipeline\n",
    "\n",
    "from gensim import corpora, models, similarities, matutils\n",
    "\n",
    "from nltk.tokenize import RegexpTokenizer\n",
    "from nltk.stem.snowball import SnowballStemmer\n",
    "from nltk.corpus import stopwords\n",
    "\n",
    "from helpers import connect, close, table_to_df\n",
    "import config\n",
    "\n",
    "%matplotlib inline"
   ]
  },
  {
   "cell_type": "markdown",
   "metadata": {},
   "source": [
    "### Load datasets\n",
    "\n",
    "The first step is to load the datasets from the database. I used sqlite3, an embedded database management system, to store my data. "
   ]
  },
  {
   "cell_type": "code",
   "execution_count": 2,
   "metadata": {},
   "outputs": [],
   "source": [
    "conn, c = connect(config.database)\n",
    "\n",
    "### load the POSTS table into dataframe\n",
    "posts = table_to_df(conn, 'POSTS')\n",
    "\n",
    "### load the COMMENTS table into dataframe\n",
    "comments_raw = table_to_df(conn, 'COMMENTS')\n",
    "\n",
    "# convert the COMMENTS to list of strings\n",
    "comments_raw['COMMENTS'] = comments_raw['COMMENTS'].map(lambda x: ast.literal_eval(x))\n",
    "\n",
    "### Transform each element of a list-like to a row, replicating index values\n",
    "comments = comments_raw.explode('COMMENTS')\n",
    "\n",
    "close(conn)"
   ]
  },
  {
   "cell_type": "markdown",
   "metadata": {},
   "source": [
    "First, we want to check if there are any NAs in the dataframes."
   ]
  },
  {
   "cell_type": "code",
   "execution_count": 3,
   "metadata": {},
   "outputs": [
    {
     "data": {
      "text/plain": [
       "id              0\n",
       "title           0\n",
       "score           0\n",
       "subreddit       0\n",
       "num_comments    0\n",
       "body            0\n",
       "created         0\n",
       "dtype: int64"
      ]
     },
     "execution_count": 3,
     "metadata": {},
     "output_type": "execute_result"
    }
   ],
   "source": [
    "posts.isnull().sum()"
   ]
  },
  {
   "cell_type": "code",
   "execution_count": 4,
   "metadata": {},
   "outputs": [
    {
     "data": {
      "text/plain": [
       "ID          0\n",
       "COMMENTS    0\n",
       "dtype: int64"
      ]
     },
     "execution_count": 4,
     "metadata": {},
     "output_type": "execute_result"
    }
   ],
   "source": [
    "comments_raw.isnull().sum()"
   ]
  },
  {
   "cell_type": "code",
   "execution_count": 65,
   "metadata": {},
   "outputs": [
    {
     "data": {
      "text/plain": [
       "(954, 2)"
      ]
     },
     "execution_count": 65,
     "metadata": {},
     "output_type": "execute_result"
    }
   ],
   "source": [
    "comments_raw.shape"
   ]
  },
  {
   "cell_type": "markdown",
   "metadata": {},
   "source": [
    "Second, let us take a look at the **POSTS** table, which includes the megadata for each post."
   ]
  },
  {
   "cell_type": "code",
   "execution_count": 64,
   "metadata": {},
   "outputs": [
    {
     "data": {
      "text/html": [
       "<div>\n",
       "<style scoped>\n",
       "    .dataframe tbody tr th:only-of-type {\n",
       "        vertical-align: middle;\n",
       "    }\n",
       "\n",
       "    .dataframe tbody tr th {\n",
       "        vertical-align: top;\n",
       "    }\n",
       "\n",
       "    .dataframe thead th {\n",
       "        text-align: right;\n",
       "    }\n",
       "</style>\n",
       "<table border=\"1\" class=\"dataframe\">\n",
       "  <thead>\n",
       "    <tr style=\"text-align: right;\">\n",
       "      <th></th>\n",
       "      <th>id</th>\n",
       "      <th>title</th>\n",
       "      <th>score</th>\n",
       "      <th>subreddit</th>\n",
       "      <th>num_comments</th>\n",
       "      <th>body</th>\n",
       "      <th>created</th>\n",
       "    </tr>\n",
       "  </thead>\n",
       "  <tbody>\n",
       "    <tr>\n",
       "      <th>133</th>\n",
       "      <td>6bo3mk</td>\n",
       "      <td>xkcd: Machine Learning</td>\n",
       "      <td>376</td>\n",
       "      <td>datascience</td>\n",
       "      <td>20</td>\n",
       "      <td></td>\n",
       "      <td>2017-05-17 15:33:34</td>\n",
       "    </tr>\n",
       "    <tr>\n",
       "      <th>135</th>\n",
       "      <td>6gi8lw</td>\n",
       "      <td>I need to print this out and put it on my cube.</td>\n",
       "      <td>367</td>\n",
       "      <td>datascience</td>\n",
       "      <td>10</td>\n",
       "      <td></td>\n",
       "      <td>2017-06-11 03:11:17</td>\n",
       "    </tr>\n",
       "    <tr>\n",
       "      <th>33</th>\n",
       "      <td>713hnw</td>\n",
       "      <td>How I went from no coding or machine learning ...</td>\n",
       "      <td>628</td>\n",
       "      <td>datascience</td>\n",
       "      <td>107</td>\n",
       "      <td>TL;DR: learned a buncha shit in 20 months with...</td>\n",
       "      <td>2017-09-19 18:54:11</td>\n",
       "    </tr>\n",
       "    <tr>\n",
       "      <th>105</th>\n",
       "      <td>75aqpg</td>\n",
       "      <td>Impossible Job Requirements</td>\n",
       "      <td>429</td>\n",
       "      <td>datascience</td>\n",
       "      <td>54</td>\n",
       "      <td></td>\n",
       "      <td>2017-10-09 21:40:47</td>\n",
       "    </tr>\n",
       "    <tr>\n",
       "      <th>68</th>\n",
       "      <td>80rhvh</td>\n",
       "      <td>newbies be like</td>\n",
       "      <td>510</td>\n",
       "      <td>datascience</td>\n",
       "      <td>130</td>\n",
       "      <td></td>\n",
       "      <td>2018-02-28 03:05:06</td>\n",
       "    </tr>\n",
       "  </tbody>\n",
       "</table>\n",
       "</div>"
      ],
      "text/plain": [
       "         id                                              title  score  \\\n",
       "133  6bo3mk                             xkcd: Machine Learning    376   \n",
       "135  6gi8lw    I need to print this out and put it on my cube.    367   \n",
       "33   713hnw  How I went from no coding or machine learning ...    628   \n",
       "105  75aqpg                        Impossible Job Requirements    429   \n",
       "68   80rhvh                                    newbies be like    510   \n",
       "\n",
       "       subreddit  num_comments  \\\n",
       "133  datascience            20   \n",
       "135  datascience            10   \n",
       "33   datascience           107   \n",
       "105  datascience            54   \n",
       "68   datascience           130   \n",
       "\n",
       "                                                  body              created  \n",
       "133                                                     2017-05-17 15:33:34  \n",
       "135                                                     2017-06-11 03:11:17  \n",
       "33   TL;DR: learned a buncha shit in 20 months with...  2017-09-19 18:54:11  \n",
       "105                                                     2017-10-09 21:40:47  \n",
       "68                                                      2018-02-28 03:05:06  "
      ]
     },
     "execution_count": 64,
     "metadata": {},
     "output_type": "execute_result"
    }
   ],
   "source": [
    "# sort the dataset by data created and display the top five rows\n",
    "posts.sort_values(by = ['created'], ascending = True).head(5)"
   ]
  },
  {
   "cell_type": "markdown",
   "metadata": {},
   "source": [
    "Let us then take a look at the **COMMENTS** table, which includes the top comments for each post."
   ]
  },
  {
   "cell_type": "code",
   "execution_count": 6,
   "metadata": {},
   "outputs": [
    {
     "data": {
      "text/html": [
       "<div>\n",
       "<style scoped>\n",
       "    .dataframe tbody tr th:only-of-type {\n",
       "        vertical-align: middle;\n",
       "    }\n",
       "\n",
       "    .dataframe tbody tr th {\n",
       "        vertical-align: top;\n",
       "    }\n",
       "\n",
       "    .dataframe thead th {\n",
       "        text-align: right;\n",
       "    }\n",
       "</style>\n",
       "<table border=\"1\" class=\"dataframe\">\n",
       "  <thead>\n",
       "    <tr style=\"text-align: right;\">\n",
       "      <th></th>\n",
       "      <th>ID</th>\n",
       "      <th>COMMENTS</th>\n",
       "    </tr>\n",
       "  </thead>\n",
       "  <tbody>\n",
       "    <tr>\n",
       "      <th>0</th>\n",
       "      <td>fzweaf</td>\n",
       "      <td>[This is very useful and makes me want to quit...</td>\n",
       "    </tr>\n",
       "    <tr>\n",
       "      <th>1</th>\n",
       "      <td>cgwvds</td>\n",
       "      <td>[Oh hey, more awesome stuff I have no time for...</td>\n",
       "    </tr>\n",
       "    <tr>\n",
       "      <th>2</th>\n",
       "      <td>aohn8w</td>\n",
       "      <td>[Tools: http://sankeymatic.com/\\n\\nData: Self-...</td>\n",
       "    </tr>\n",
       "    <tr>\n",
       "      <th>3</th>\n",
       "      <td>bupmyf</td>\n",
       "      <td>[IMO this is a large part of the reason data s...</td>\n",
       "    </tr>\n",
       "    <tr>\n",
       "      <th>4</th>\n",
       "      <td>drde9q</td>\n",
       "      <td>[Honestly, if you understand the most fundamen...</td>\n",
       "    </tr>\n",
       "  </tbody>\n",
       "</table>\n",
       "</div>"
      ],
      "text/plain": [
       "       ID                                           COMMENTS\n",
       "0  fzweaf  [This is very useful and makes me want to quit...\n",
       "1  cgwvds  [Oh hey, more awesome stuff I have no time for...\n",
       "2  aohn8w  [Tools: http://sankeymatic.com/\\n\\nData: Self-...\n",
       "3  bupmyf  [IMO this is a large part of the reason data s...\n",
       "4  drde9q  [Honestly, if you understand the most fundamen..."
      ]
     },
     "execution_count": 6,
     "metadata": {},
     "output_type": "execute_result"
    }
   ],
   "source": [
    "comments_raw.head(5)"
   ]
  },
  {
   "cell_type": "markdown",
   "metadata": {},
   "source": [
    "Using explode, we can transform each element of a list-like to a row, replicating index values."
   ]
  },
  {
   "cell_type": "code",
   "execution_count": 7,
   "metadata": {},
   "outputs": [
    {
     "data": {
      "text/html": [
       "<div>\n",
       "<style scoped>\n",
       "    .dataframe tbody tr th:only-of-type {\n",
       "        vertical-align: middle;\n",
       "    }\n",
       "\n",
       "    .dataframe tbody tr th {\n",
       "        vertical-align: top;\n",
       "    }\n",
       "\n",
       "    .dataframe thead th {\n",
       "        text-align: right;\n",
       "    }\n",
       "</style>\n",
       "<table border=\"1\" class=\"dataframe\">\n",
       "  <thead>\n",
       "    <tr style=\"text-align: right;\">\n",
       "      <th></th>\n",
       "      <th>ID</th>\n",
       "      <th>COMMENTS</th>\n",
       "    </tr>\n",
       "  </thead>\n",
       "  <tbody>\n",
       "    <tr>\n",
       "      <th>0</th>\n",
       "      <td>fzweaf</td>\n",
       "      <td>This is very useful and makes me want to quit ...</td>\n",
       "    </tr>\n",
       "    <tr>\n",
       "      <th>0</th>\n",
       "      <td>fzweaf</td>\n",
       "      <td>I would rename this article as my RDBMS Checkl...</td>\n",
       "    </tr>\n",
       "    <tr>\n",
       "      <th>0</th>\n",
       "      <td>fzweaf</td>\n",
       "      <td>&gt; CUSTOMER, CUSTOMER_NEW, CUSTOMER_NEW_NEW\\n\\n...</td>\n",
       "    </tr>\n",
       "    <tr>\n",
       "      <th>0</th>\n",
       "      <td>fzweaf</td>\n",
       "      <td>Interesting, what’s your background?</td>\n",
       "    </tr>\n",
       "    <tr>\n",
       "      <th>0</th>\n",
       "      <td>fzweaf</td>\n",
       "      <td>I appreciate very much your kind gift</td>\n",
       "    </tr>\n",
       "  </tbody>\n",
       "</table>\n",
       "</div>"
      ],
      "text/plain": [
       "       ID                                           COMMENTS\n",
       "0  fzweaf  This is very useful and makes me want to quit ...\n",
       "0  fzweaf  I would rename this article as my RDBMS Checkl...\n",
       "0  fzweaf  > CUSTOMER, CUSTOMER_NEW, CUSTOMER_NEW_NEW\\n\\n...\n",
       "0  fzweaf               Interesting, what’s your background?\n",
       "0  fzweaf              I appreciate very much your kind gift"
      ]
     },
     "execution_count": 7,
     "metadata": {},
     "output_type": "execute_result"
    }
   ],
   "source": [
    "comments.head(5)"
   ]
  },
  {
   "cell_type": "markdown",
   "metadata": {},
   "source": [
    "Calculate the length of all the comments, find the distribution of comment lengths and filter the comments by length."
   ]
  },
  {
   "cell_type": "code",
   "execution_count": 8,
   "metadata": {},
   "outputs": [],
   "source": [
    "comments['COMMENTS_LENGTH'] = comments['COMMENTS'].str.split().str.len().fillna(0).astype(int)"
   ]
  },
  {
   "cell_type": "code",
   "execution_count": 9,
   "metadata": {},
   "outputs": [
    {
     "name": "stdout",
     "output_type": "stream",
     "text": [
      "The mean of the length of the comments is 58.21530180699731.\n",
      "The median of the length of the comments is 29.0.\n",
      "The standard deviation of the length of the comments is 83.13319961716927.\n"
     ]
    }
   ],
   "source": [
    "print('The mean of the length of the comments is {}.'.format(comments['COMMENTS_LENGTH'].mean()))\n",
    "print('The median of the length of the comments is {}.'.format(comments['COMMENTS_LENGTH'].median()))\n",
    "print('The standard deviation of the length of the comments is {}.'.format(comments['COMMENTS_LENGTH'].std()))"
   ]
  },
  {
   "cell_type": "code",
   "execution_count": 10,
   "metadata": {},
   "outputs": [
    {
     "data": {
      "text/plain": [
       "<matplotlib.axes._subplots.AxesSubplot at 0x7f9571628550>"
      ]
     },
     "execution_count": 10,
     "metadata": {},
     "output_type": "execute_result"
    },
    {
     "data": {
      "image/png": "[encoded data removed]",
      "text/plain": [
       "<Figure size 432x288 with 1 Axes>"
      ]
     },
     "metadata": {
      "needs_background": "light"
     },
     "output_type": "display_data"
    }
   ],
   "source": [
    "comments[comments['COMMENTS_LENGTH'] < 100]['COMMENTS_LENGTH'].hist()\n",
    "\n",
    "### looking at everything below 28, look at different bins; \n",
    "### what seems to be consistent. what sort of scaling would you want to consider? take a look at the terms. power transform/log transform\n",
    "### as the weight? Consider something"
   ]
  },
  {
   "cell_type": "code",
   "execution_count": 11,
   "metadata": {},
   "outputs": [
    {
     "data": {
      "text/plain": [
       "0.8259323337178008"
      ]
     },
     "execution_count": 11,
     "metadata": {},
     "output_type": "execute_result"
    }
   ],
   "source": [
    "## the proportion of comments shorter than 100 words\n",
    "(comments[comments['COMMENTS_LENGTH'] < 100].shape[0])/(len(comments['COMMENTS']))"
   ]
  },
  {
   "cell_type": "code",
   "execution_count": 12,
   "metadata": {},
   "outputs": [
    {
     "data": {
      "text/plain": [
       "0.17406766628219916"
      ]
     },
     "execution_count": 12,
     "metadata": {},
     "output_type": "execute_result"
    }
   ],
   "source": [
    "## the proportion of comments longer than 100 words\n",
    "(comments[comments['COMMENTS_LENGTH'] >= 100].shape[0])/(len(comments['COMMENTS']))"
   ]
  },
  {
   "cell_type": "code",
   "execution_count": 13,
   "metadata": {},
   "outputs": [
    {
     "data": {
      "text/html": [
       "<div>\n",
       "<style scoped>\n",
       "    .dataframe tbody tr th:only-of-type {\n",
       "        vertical-align: middle;\n",
       "    }\n",
       "\n",
       "    .dataframe tbody tr th {\n",
       "        vertical-align: top;\n",
       "    }\n",
       "\n",
       "    .dataframe thead th {\n",
       "        text-align: right;\n",
       "    }\n",
       "</style>\n",
       "<table border=\"1\" class=\"dataframe\">\n",
       "  <thead>\n",
       "    <tr style=\"text-align: right;\">\n",
       "      <th></th>\n",
       "      <th>COMMENTS</th>\n",
       "    </tr>\n",
       "    <tr>\n",
       "      <th>ID</th>\n",
       "      <th></th>\n",
       "    </tr>\n",
       "  </thead>\n",
       "  <tbody>\n",
       "    <tr>\n",
       "      <th>6bo3mk</th>\n",
       "      <td>[This is henceforth going to be a slide in eve...</td>\n",
       "    </tr>\n",
       "    <tr>\n",
       "      <th>6gi8lw</th>\n",
       "      <td>[apology for poor english\\n\\nwhere were you wh...</td>\n",
       "    </tr>\n",
       "    <tr>\n",
       "      <th>713hnw</th>\n",
       "      <td>[You greatly underestimate the value of your m...</td>\n",
       "    </tr>\n",
       "    <tr>\n",
       "      <th>75aqpg</th>\n",
       "      <td>[What, no PhD requirement to go along with it?...</td>\n",
       "    </tr>\n",
       "    <tr>\n",
       "      <th>80rhvh</th>\n",
       "      <td>[Seems like this ended up being a good opportu...</td>\n",
       "    </tr>\n",
       "  </tbody>\n",
       "</table>\n",
       "</div>"
      ],
      "text/plain": [
       "                                                 COMMENTS\n",
       "ID                                                       \n",
       "6bo3mk  [This is henceforth going to be a slide in eve...\n",
       "6gi8lw  [apology for poor english\\n\\nwhere were you wh...\n",
       "713hnw  [You greatly underestimate the value of your m...\n",
       "75aqpg  [What, no PhD requirement to go along with it?...\n",
       "80rhvh  [Seems like this ended up being a good opportu..."
      ]
     },
     "execution_count": 13,
     "metadata": {},
     "output_type": "execute_result"
    }
   ],
   "source": [
    "comments_short = comments.query('COMMENTS_LENGTH >0 & COMMENTS_LENGTH < 100')[['ID', 'COMMENTS']].groupby('ID').agg(lambda x: x.tolist())\n",
    "comments_short.head()"
   ]
  },
  {
   "cell_type": "code",
   "execution_count": 14,
   "metadata": {},
   "outputs": [
    {
     "data": {
      "text/html": [
       "<div>\n",
       "<style scoped>\n",
       "    .dataframe tbody tr th:only-of-type {\n",
       "        vertical-align: middle;\n",
       "    }\n",
       "\n",
       "    .dataframe tbody tr th {\n",
       "        vertical-align: top;\n",
       "    }\n",
       "\n",
       "    .dataframe thead th {\n",
       "        text-align: right;\n",
       "    }\n",
       "</style>\n",
       "<table border=\"1\" class=\"dataframe\">\n",
       "  <thead>\n",
       "    <tr style=\"text-align: right;\">\n",
       "      <th></th>\n",
       "      <th>COMMENTS</th>\n",
       "    </tr>\n",
       "    <tr>\n",
       "      <th>ID</th>\n",
       "      <th></th>\n",
       "    </tr>\n",
       "  </thead>\n",
       "  <tbody>\n",
       "    <tr>\n",
       "      <th>713hnw</th>\n",
       "      <td>[&gt;The name of the school and the operations re...</td>\n",
       "    </tr>\n",
       "    <tr>\n",
       "      <th>80rhvh</th>\n",
       "      <td>[Man, every time I see a post like this it jus...</td>\n",
       "    </tr>\n",
       "    <tr>\n",
       "      <th>8nl2ps</th>\n",
       "      <td>[Years ago I worked at a headhunter and saw ho...</td>\n",
       "    </tr>\n",
       "    <tr>\n",
       "      <th>9f18t6</th>\n",
       "      <td>[This is why I have no interest in socializing...</td>\n",
       "    </tr>\n",
       "    <tr>\n",
       "      <th>9lprhw</th>\n",
       "      <td>[I was in a class like this for computer archi...</td>\n",
       "    </tr>\n",
       "  </tbody>\n",
       "</table>\n",
       "</div>"
      ],
      "text/plain": [
       "                                                 COMMENTS\n",
       "ID                                                       \n",
       "713hnw  [>The name of the school and the operations re...\n",
       "80rhvh  [Man, every time I see a post like this it jus...\n",
       "8nl2ps  [Years ago I worked at a headhunter and saw ho...\n",
       "9f18t6  [This is why I have no interest in socializing...\n",
       "9lprhw  [I was in a class like this for computer archi..."
      ]
     },
     "execution_count": 14,
     "metadata": {},
     "output_type": "execute_result"
    }
   ],
   "source": [
    "comments_long = comments.query('COMMENTS_LENGTH > 100')[['ID', 'COMMENTS']].groupby('ID').agg(lambda x: x.tolist())\n",
    "comments_long.head()"
   ]
  },
  {
   "cell_type": "markdown",
   "metadata": {},
   "source": [
    "### Preprocessing"
   ]
  },
  {
   "cell_type": "code",
   "execution_count": 15,
   "metadata": {},
   "outputs": [],
   "source": [
    "###\n",
    "import re\n",
    "def preprocessing(df):\n",
    "    ## Join the list of string into one long string:\n",
    "    df['COMMENTS'] = df['COMMENTS'].str.join(' ')\n",
    "\n",
    "    ## Remove empty space:\n",
    "    df['COMMENTS'] = df['COMMENTS'].map(lambda x: re.sub('\\s+', ' ', x))\n",
    "\n",
    "    ## Convert all string to lower cases:\n",
    "    df['COMMENTS'] = df['COMMENTS'].str.lower()\n",
    "\n",
    "    ## Remove all the punctuations:\n",
    "    df['COMMENTS'] = df['COMMENTS'].map(lambda x: re.sub('[^\\w\\s]', '', x))\n",
    "    \n",
    "    return df"
   ]
  },
  {
   "cell_type": "code",
   "execution_count": 16,
   "metadata": {},
   "outputs": [
    {
     "data": {
      "text/html": [
       "<div>\n",
       "<style scoped>\n",
       "    .dataframe tbody tr th:only-of-type {\n",
       "        vertical-align: middle;\n",
       "    }\n",
       "\n",
       "    .dataframe tbody tr th {\n",
       "        vertical-align: top;\n",
       "    }\n",
       "\n",
       "    .dataframe thead th {\n",
       "        text-align: right;\n",
       "    }\n",
       "</style>\n",
       "<table border=\"1\" class=\"dataframe\">\n",
       "  <thead>\n",
       "    <tr style=\"text-align: right;\">\n",
       "      <th></th>\n",
       "      <th>ID</th>\n",
       "      <th>COMMENTS</th>\n",
       "    </tr>\n",
       "  </thead>\n",
       "  <tbody>\n",
       "    <tr>\n",
       "      <th>0</th>\n",
       "      <td>fzweaf</td>\n",
       "      <td>this is very useful and makes me want to quit ...</td>\n",
       "    </tr>\n",
       "    <tr>\n",
       "      <th>1</th>\n",
       "      <td>cgwvds</td>\n",
       "      <td>oh hey more awesome stuff i have no time for  ...</td>\n",
       "    </tr>\n",
       "    <tr>\n",
       "      <th>2</th>\n",
       "      <td>aohn8w</td>\n",
       "      <td>tools httpsankeymaticcom data selfgathered dat...</td>\n",
       "    </tr>\n",
       "    <tr>\n",
       "      <th>3</th>\n",
       "      <td>bupmyf</td>\n",
       "      <td>imo this is a large part of the reason data sc...</td>\n",
       "    </tr>\n",
       "    <tr>\n",
       "      <th>4</th>\n",
       "      <td>drde9q</td>\n",
       "      <td>honestly if you understand the most fundamenta...</td>\n",
       "    </tr>\n",
       "  </tbody>\n",
       "</table>\n",
       "</div>"
      ],
      "text/plain": [
       "       ID                                           COMMENTS\n",
       "0  fzweaf  this is very useful and makes me want to quit ...\n",
       "1  cgwvds  oh hey more awesome stuff i have no time for  ...\n",
       "2  aohn8w  tools httpsankeymaticcom data selfgathered dat...\n",
       "3  bupmyf  imo this is a large part of the reason data sc...\n",
       "4  drde9q  honestly if you understand the most fundamenta..."
      ]
     },
     "execution_count": 16,
     "metadata": {},
     "output_type": "execute_result"
    }
   ],
   "source": [
    "comments_raw = preprocessing(comments_raw)\n",
    "comments_raw.head()"
   ]
  },
  {
   "cell_type": "code",
   "execution_count": 17,
   "metadata": {},
   "outputs": [
    {
     "data": {
      "text/html": [
       "<div>\n",
       "<style scoped>\n",
       "    .dataframe tbody tr th:only-of-type {\n",
       "        vertical-align: middle;\n",
       "    }\n",
       "\n",
       "    .dataframe tbody tr th {\n",
       "        vertical-align: top;\n",
       "    }\n",
       "\n",
       "    .dataframe thead th {\n",
       "        text-align: right;\n",
       "    }\n",
       "</style>\n",
       "<table border=\"1\" class=\"dataframe\">\n",
       "  <thead>\n",
       "    <tr style=\"text-align: right;\">\n",
       "      <th></th>\n",
       "      <th>COMMENTS</th>\n",
       "    </tr>\n",
       "    <tr>\n",
       "      <th>ID</th>\n",
       "      <th></th>\n",
       "    </tr>\n",
       "  </thead>\n",
       "  <tbody>\n",
       "    <tr>\n",
       "      <th>6bo3mk</th>\n",
       "      <td>this is henceforth going to be a slide in ever...</td>\n",
       "    </tr>\n",
       "    <tr>\n",
       "      <th>6gi8lw</th>\n",
       "      <td>apology for poor english where were you when c...</td>\n",
       "    </tr>\n",
       "    <tr>\n",
       "      <th>713hnw</th>\n",
       "      <td>you greatly underestimate the value of your ma...</td>\n",
       "    </tr>\n",
       "    <tr>\n",
       "      <th>75aqpg</th>\n",
       "      <td>what no phd requirement to go along with it de...</td>\n",
       "    </tr>\n",
       "    <tr>\n",
       "      <th>80rhvh</th>\n",
       "      <td>seems like this ended up being a good opportun...</td>\n",
       "    </tr>\n",
       "  </tbody>\n",
       "</table>\n",
       "</div>"
      ],
      "text/plain": [
       "                                                 COMMENTS\n",
       "ID                                                       \n",
       "6bo3mk  this is henceforth going to be a slide in ever...\n",
       "6gi8lw  apology for poor english where were you when c...\n",
       "713hnw  you greatly underestimate the value of your ma...\n",
       "75aqpg  what no phd requirement to go along with it de...\n",
       "80rhvh  seems like this ended up being a good opportun..."
      ]
     },
     "execution_count": 17,
     "metadata": {},
     "output_type": "execute_result"
    }
   ],
   "source": [
    "comments_short = preprocessing(comments_short)\n",
    "comments_short.head()"
   ]
  },
  {
   "cell_type": "code",
   "execution_count": 18,
   "metadata": {},
   "outputs": [
    {
     "data": {
      "text/html": [
       "<div>\n",
       "<style scoped>\n",
       "    .dataframe tbody tr th:only-of-type {\n",
       "        vertical-align: middle;\n",
       "    }\n",
       "\n",
       "    .dataframe tbody tr th {\n",
       "        vertical-align: top;\n",
       "    }\n",
       "\n",
       "    .dataframe thead th {\n",
       "        text-align: right;\n",
       "    }\n",
       "</style>\n",
       "<table border=\"1\" class=\"dataframe\">\n",
       "  <thead>\n",
       "    <tr style=\"text-align: right;\">\n",
       "      <th></th>\n",
       "      <th>COMMENTS</th>\n",
       "    </tr>\n",
       "    <tr>\n",
       "      <th>ID</th>\n",
       "      <th></th>\n",
       "    </tr>\n",
       "  </thead>\n",
       "  <tbody>\n",
       "    <tr>\n",
       "      <th>713hnw</th>\n",
       "      <td>the name of the school and the operations rese...</td>\n",
       "    </tr>\n",
       "    <tr>\n",
       "      <th>80rhvh</th>\n",
       "      <td>man every time i see a post like this it just ...</td>\n",
       "    </tr>\n",
       "    <tr>\n",
       "      <th>8nl2ps</th>\n",
       "      <td>years ago i worked at a headhunter and saw how...</td>\n",
       "    </tr>\n",
       "    <tr>\n",
       "      <th>9f18t6</th>\n",
       "      <td>this is why i have no interest in socializing ...</td>\n",
       "    </tr>\n",
       "    <tr>\n",
       "      <th>9lprhw</th>\n",
       "      <td>i was in a class like this for computer archit...</td>\n",
       "    </tr>\n",
       "  </tbody>\n",
       "</table>\n",
       "</div>"
      ],
      "text/plain": [
       "                                                 COMMENTS\n",
       "ID                                                       \n",
       "713hnw  the name of the school and the operations rese...\n",
       "80rhvh  man every time i see a post like this it just ...\n",
       "8nl2ps  years ago i worked at a headhunter and saw how...\n",
       "9f18t6  this is why i have no interest in socializing ...\n",
       "9lprhw  i was in a class like this for computer archit..."
      ]
     },
     "execution_count": 18,
     "metadata": {},
     "output_type": "execute_result"
    }
   ],
   "source": [
    "comments_long = preprocessing(comments_long)\n",
    "comments_long.head()"
   ]
  },
  {
   "cell_type": "markdown",
   "metadata": {},
   "source": [
    "Next, we need to define the stemmer, tokenizer and the stop_words."
   ]
  },
  {
   "cell_type": "code",
   "execution_count": 20,
   "metadata": {},
   "outputs": [],
   "source": [
    "nltk_stop_words = stopwords.words('english')\n",
    "\n",
    "more_stop_words = ['could', 'really', 'would','one','also','days', \n",
    "                  'say', 'can', 'id', 'ive', 'arent', 'something', 'many', 'etc', 'even', \n",
    "                   'like', 'just', 'im', 'dont', 'youre', 'great', 'nice', 'good', 'data', 'thank', 'lol']\n",
    "\n",
    "stop_words = nltk_stop_words + more_stop_words\n",
    "\n",
    "# define the Stemmer\n",
    "stemmer = SnowballStemmer('english')\n",
    "\n",
    "stop_words = [stemmer.stem(word) for word in stop_words]\n",
    "\n",
    "# define the Tokenizer\n",
    "tokenizer = RegexpTokenizer(r'[a-zA-Z\\']+')\n",
    "\n",
    "def tokenize_and_stem(text):\n",
    "    return [stemmer.stem(word) for word in tokenizer.tokenize(text)]\n",
    "\n",
    "def tokenize_only(text):\n",
    "    return tokenizer.tokenize(text)"
   ]
  },
  {
   "cell_type": "code",
   "execution_count": 23,
   "metadata": {},
   "outputs": [],
   "source": [
    "comms_short = comments_short['COMMENTS'].values\n",
    "\n",
    "comms_long = comments_long['COMMENTS'].values\n",
    "\n",
    "comms = comments_raw['COMMENTS'].values\n",
    "\n",
    "# # tokenize only, no stemmize\n",
    "# # max_features = 500: only consider the top max_features ordered by term frequency\n",
    "# vectorizer1 = TfidfVectorizer(stop_words = stop_words, tokenizer = tokenize_only, max_features = 200)\n",
    "# X1 = vectorizer1.fit_transform(comms)\n",
    "# X1_norm = normalize(X1)\n",
    "# words1 = vectorizer1.get_feature_names()\n",
    "\n",
    "# tokenize and stemmize\n",
    "# max_features = 500: only consider the top max_features ordered by term frequency\n",
    "vectorizer = TfidfVectorizer(stop_words = stop_words, tokenizer = tokenize_and_stem, max_features = 200)\n",
    "X_short = vectorizer.fit_transform(comms_short)\n",
    "X_short_norm = normalize(X_short)\n",
    "words_short = vectorizer.get_feature_names()\n",
    "### try the raw count to compare with tfidf. \n",
    "\n",
    "### try to get some non-NLP, more statistical test. "
   ]
  },
  {
   "cell_type": "code",
   "execution_count": 24,
   "metadata": {},
   "outputs": [],
   "source": [
    "vectorizer = TfidfVectorizer(stop_words = stop_words, tokenizer = tokenize_and_stem, max_features = 200)\n",
    "X_long = vectorizer.fit_transform(comms_long)\n",
    "X_long_norm = normalize(X_long)\n",
    "words_long = vectorizer.get_feature_names()"
   ]
  },
  {
   "cell_type": "code",
   "execution_count": 25,
   "metadata": {},
   "outputs": [],
   "source": [
    "vectorizer = TfidfVectorizer(stop_words = stop_words, tokenizer = tokenize_and_stem, max_features = 200)\n",
    "X = vectorizer.fit_transform(comms)\n",
    "X_norm = normalize(X)\n",
    "words = vectorizer.get_feature_names()"
   ]
  },
  {
   "cell_type": "markdown",
   "metadata": {},
   "source": [
    "### K-means"
   ]
  },
  {
   "cell_type": "code",
   "execution_count": 26,
   "metadata": {},
   "outputs": [
    {
     "name": "stdout",
     "output_type": "stream",
     "text": [
      "0 : get, look, work, want, need, go, make, cours, know, project, think\n",
      "1 : interview, job, get, role, compani, ds, scienc, ask, posit, work, question\n",
      "2 : scienc, work, learn, scientist, job, get, know, peopl, engin, time, compani\n",
      "3 : use, model, work, featur, predict, need, tri, notebook, make, get, look\n",
      "4 : r, python, use, languag, sas, code, learn, work, sql, panda, need\n"
     ]
    }
   ],
   "source": [
    "# for X_short\n",
    "kmeans_5 = KMeans(n_clusters = 5, n_init = 5, n_jobs = -1)\n",
    "kmeans_5.fit(X_short)\n",
    "\n",
    "common_words = kmeans_5.cluster_centers_.argsort()[:,-1:-12:-1]\n",
    "for num, centroid in enumerate(common_words):\n",
    "    print(str(num) + ' : ' + ', '.join(words_short[word] for word in centroid))"
   ]
  },
  {
   "cell_type": "code",
   "execution_count": 27,
   "metadata": {},
   "outputs": [
    {
     "name": "stdout",
     "output_type": "stream",
     "text": [
      "0 : r, python, use, languag, learn, tool, sql, know, excel, work, peopl\n",
      "1 : use, get, work, peopl, make, time, code, need, project, thing, want\n",
      "2 : model, use, featur, predict, train, learn, problem, need, custom, work, time\n",
      "3 : scienc, job, program, learn, work, get, math, degre, scientist, year, cours\n",
      "4 : compani, work, job, get, team, manag, peopl, scientist, ds, scienc, time\n"
     ]
    }
   ],
   "source": [
    "# for X_long\n",
    "kmeans_5 = KMeans(n_clusters = 5, n_init = 5, n_jobs = -1)\n",
    "kmeans_5.fit(X_long)\n",
    "\n",
    "common_words = kmeans_5.cluster_centers_.argsort()[:,-1:-12:-1]\n",
    "for num, centroid in enumerate(common_words):\n",
    "    print(str(num) + ' : ' + ', '.join(words_long[word] for word in centroid))"
   ]
  },
  {
   "cell_type": "markdown",
   "metadata": {},
   "source": [
    "### Optimal Number of Clusters\n",
    "\n",
    "When we use K-means method, one of the things we need to do is to choose the optimal number of clusters. We don't want to choose too few clusters, as they will group data with significant differences together; nor do we want to have to many clusters, as it will cause overfitting. To find the optimal number of clusters, we resort to elbow method. It involves estimating the model using various numbers of clusters and calculating the negative of the within-cluster sum of squares for each number of clusters chosen using the score method from sklearn. "
   ]
  },
  {
   "cell_type": "code",
   "execution_count": 28,
   "metadata": {
    "scrolled": true
   },
   "outputs": [
    {
     "data": {
      "image/png": "[encoded data removed]",
      "text/plain": [
       "<Figure size 432x288 with 1 Axes>"
      ]
     },
     "metadata": {
      "needs_background": "light"
     },
     "output_type": "display_data"
    }
   ],
   "source": [
    "# find the optimal number of clusters for X_short\n",
    "number_clusters = range(1, 15)\n",
    "\n",
    "kmeans = [KMeans(n_clusters=i, max_iter = 600) for i in number_clusters]\n",
    "kmeans\n",
    "\n",
    "score = [kmeans[i].fit(X_short).score(X_short) for i in range(len(kmeans))]\n",
    "score\n",
    "\n",
    "plt.plot(number_clusters, score)\n",
    "plt.xlabel('Number of Clusters')\n",
    "plt.ylabel('Score')\n",
    "plt.title('Elbow Method')\n",
    "plt.show()\n",
    "\n",
    "\n",
    "### hierachical clustering 8 and 12 dandrogram top 50 tokens"
   ]
  },
  {
   "cell_type": "code",
   "execution_count": 29,
   "metadata": {},
   "outputs": [
    {
     "data": {
      "image/png": "[encoded data removed]",
      "text/plain": [
       "<Figure size 432x288 with 1 Axes>"
      ]
     },
     "metadata": {
      "needs_background": "light"
     },
     "output_type": "display_data"
    }
   ],
   "source": [
    "# find the optimal number of clusters for X_long\n",
    "number_clusters = range(1, 15)\n",
    "\n",
    "kmeans = [KMeans(n_clusters=i, max_iter = 600) for i in number_clusters]\n",
    "kmeans\n",
    "\n",
    "score = [kmeans[i].fit(X_long).score(X_long) for i in range(len(kmeans))]\n",
    "score\n",
    "\n",
    "plt.plot(number_clusters, score)\n",
    "plt.xlabel('Number of Clusters')\n",
    "plt.ylabel('Score')\n",
    "plt.title('Elbow Method')\n",
    "plt.show()\n",
    "\n",
    "### hierachical clustering 8 dandrogram top 50 tokens"
   ]
  },
  {
   "cell_type": "markdown",
   "metadata": {},
   "source": [
    "#### Visualize the clusters"
   ]
  },
  {
   "cell_type": "code",
   "execution_count": null,
   "metadata": {},
   "outputs": [],
   "source": [
    "from sklearn.decomposition import PCA\n",
    "\n",
    "sklearn_pca = PCA(n_components = 2)\n",
    "X1_pca = sklearn_pca.fit_transform(X1)\n",
    "kmeans = KMeans(n_clusters=3, max_iter=600, algorithm = 'auto')\n",
    "fitted = kmeans.fit(X1_pca)\n",
    "prediction = kmeans.predict(X1_pca)\n",
    "\n",
    "plt.scatter(X1_pca[:, 0], X1_pca[:, 1], c=predicted_values, s=50, cmap='viridis')\n",
    "\n",
    "centers = fitted.centroids\n",
    "plt.scatter(centers[:, 0], centers[:, 1],c='black', s=300, alpha=0.6);"
   ]
  },
  {
   "cell_type": "code",
   "execution_count": null,
   "metadata": {},
   "outputs": [],
   "source": [
    "sklearn_pca = PCA(n_components = 2)\n",
    "X3_pca = sklearn_pca.fit_transform(X3)"
   ]
  },
  {
   "cell_type": "markdown",
   "metadata": {},
   "source": [
    "### Performing dimensionality reduction using LSA\n",
    "\n",
    "Vectorizer results are normalized, which makes KMeans behave as spherical k-means for better results. Since LSA/SVD results are not normazlied, we need to redo the normalization."
   ]
  },
  {
   "cell_type": "code",
   "execution_count": 30,
   "metadata": {},
   "outputs": [
    {
     "ename": "AttributeError",
     "evalue": "'function' object has no attribute 'Normalizer'",
     "output_type": "error",
     "traceback": [
      "\u001b[0;31m---------------------------------------------------------------------------\u001b[0m",
      "\u001b[0;31mAttributeError\u001b[0m                            Traceback (most recent call last)",
      "\u001b[0;32m<ipython-input-30-8b78e1652f57>\u001b[0m in \u001b[0;36m<module>\u001b[0;34m\u001b[0m\n\u001b[1;32m      1\u001b[0m \u001b[0;31m# for X1\u001b[0m\u001b[0;34m\u001b[0m\u001b[0;34m\u001b[0m\u001b[0;34m\u001b[0m\u001b[0m\n\u001b[1;32m      2\u001b[0m \u001b[0mSVD\u001b[0m \u001b[0;34m=\u001b[0m \u001b[0mTruncatedSVD\u001b[0m\u001b[0;34m(\u001b[0m\u001b[0mn_components\u001b[0m \u001b[0;34m=\u001b[0m \u001b[0;36m10\u001b[0m\u001b[0;34m)\u001b[0m\u001b[0;34m\u001b[0m\u001b[0;34m\u001b[0m\u001b[0m\n\u001b[0;32m----> 3\u001b[0;31m \u001b[0mnormalizer\u001b[0m \u001b[0;34m=\u001b[0m \u001b[0mpreprocessing\u001b[0m\u001b[0;34m.\u001b[0m\u001b[0mNormalizer\u001b[0m\u001b[0;34m(\u001b[0m\u001b[0mcopy\u001b[0m \u001b[0;34m=\u001b[0m \u001b[0;32mFalse\u001b[0m\u001b[0;34m)\u001b[0m\u001b[0;34m\u001b[0m\u001b[0;34m\u001b[0m\u001b[0m\n\u001b[0m\u001b[1;32m      4\u001b[0m \u001b[0mlsa\u001b[0m \u001b[0;34m=\u001b[0m \u001b[0mmake_pipeline\u001b[0m\u001b[0;34m(\u001b[0m\u001b[0mSVD\u001b[0m\u001b[0;34m,\u001b[0m \u001b[0mnormalizer\u001b[0m\u001b[0;34m)\u001b[0m\u001b[0;34m\u001b[0m\u001b[0;34m\u001b[0m\u001b[0m\n\u001b[1;32m      5\u001b[0m \u001b[0mX\u001b[0m \u001b[0;34m=\u001b[0m \u001b[0mlsa\u001b[0m\u001b[0;34m.\u001b[0m\u001b[0mfit_transform\u001b[0m\u001b[0;34m(\u001b[0m\u001b[0mX_short\u001b[0m\u001b[0;34m)\u001b[0m\u001b[0;34m\u001b[0m\u001b[0;34m\u001b[0m\u001b[0m\n",
      "\u001b[0;31mAttributeError\u001b[0m: 'function' object has no attribute 'Normalizer'"
     ]
    }
   ],
   "source": [
    "# for X1\n",
    "SVD = TruncatedSVD(n_components = 10)\n",
    "normalizer = preprocessing.Normalizer(copy = False)\n",
    "lsa = make_pipeline(SVD, normalizer)\n",
    "X = lsa.fit_transform(X_short)"
   ]
  },
  {
   "cell_type": "markdown",
   "metadata": {},
   "source": [
    "Which component explains the variance the most?"
   ]
  },
  {
   "cell_type": "code",
   "execution_count": null,
   "metadata": {},
   "outputs": [],
   "source": [
    "X[0], SVD.explained_variance_ratio_"
   ]
  },
  {
   "cell_type": "markdown",
   "metadata": {},
   "source": [
    "#### Explained variance with different number of components."
   ]
  },
  {
   "cell_type": "code",
   "execution_count": null,
   "metadata": {},
   "outputs": [],
   "source": [
    "# for X1\n",
    "for i in range(1,15):\n",
    "    t0 = time()\n",
    "    \n",
    "    svd = TruncatedSVD(n_components=i)\n",
    "    normalizer = preprocessing.Normalizer(copy=False)\n",
    "    lsa = make_pipeline(svd, normalizer)\n",
    "\n",
    "    X = lsa.fit_transform(X1)\n",
    "\n",
    "    print(\"done in %fs\" % (time() - t0))\n",
    "\n",
    "    explained_variance = svd.explained_variance_ratio_.sum()\n",
    "    print(\"Explained variance of the SVD step: {}%\".format(int(explained_variance * 100)))"
   ]
  },
  {
   "cell_type": "code",
   "execution_count": null,
   "metadata": {},
   "outputs": [],
   "source": [
    "# for X2\n",
    "for i in range(1,15):\n",
    "    t0 = time()\n",
    "    \n",
    "    svd = TruncatedSVD(n_components=i)\n",
    "    normalizer = preprocessing.Normalizer(copy=False)\n",
    "    lsa = make_pipeline(svd, normalizer)\n",
    "\n",
    "    X = lsa.fit_transform(X2)\n",
    "\n",
    "    print(\"done in %fs\" % (time() - t0))\n",
    "\n",
    "    explained_variance = svd.explained_variance_ratio_.sum()\n",
    "    print(\"Explained variance of the SVD step: {}%\".format(int(explained_variance * 100)))"
   ]
  },
  {
   "cell_type": "markdown",
   "metadata": {},
   "source": [
    "Export TFIDF vectors to gensim and let it know the mapping of row index to term:\n",
    "- Convert sparse matrix of counts to a gensim corpus\n",
    "- Transpose it for gensim -> needs to be terms by docs instead of docs by terms"
   ]
  },
  {
   "cell_type": "code",
   "execution_count": 31,
   "metadata": {},
   "outputs": [],
   "source": [
    "# for X_short\n",
    "tfidf_corpus1 = matutils.Sparse2Corpus(X_short.transpose())\n",
    "\n",
    "# Row indices\n",
    "id2word1 = dict((v, k) for k, v in vectorizer.vocabulary_.items())\n",
    "\n",
    "id2word1 = corpora.Dictionary.from_corpus(tfidf_corpus1, \n",
    "                                         id2word=id2word1)"
   ]
  },
  {
   "cell_type": "code",
   "execution_count": 32,
   "metadata": {},
   "outputs": [],
   "source": [
    "# for X_long\n",
    "tfidf_corpus2 = matutils.Sparse2Corpus(X_long.transpose())\n",
    "\n",
    "# Row indices\n",
    "id2word2 = dict((v, k) for k, v in vectorizer.vocabulary_.items())\n",
    "\n",
    "id2word2 = corpora.Dictionary.from_corpus(tfidf_corpus2, \n",
    "                                         id2word=id2word2)"
   ]
  },
  {
   "cell_type": "markdown",
   "metadata": {},
   "source": [
    "### LSA/LSI in gensim\n",
    "Build an LSI space from the input TFIDF matrix, mapping of row id to word, and num_topics.\n",
    "num_topics is the number of dimensions to reduce to after the SVD.\n",
    "Same as \"fit\" in sklearn, it primes an LSI space."
   ]
  },
  {
   "cell_type": "code",
   "execution_count": 33,
   "metadata": {},
   "outputs": [
    {
     "data": {
      "text/plain": [
       "[(0,\n",
       "  [('valu', 0.25102087459497263),\n",
       "   ('write', 0.21411702695161713),\n",
       "   ('school', 0.18425912813997317),\n",
       "   ('general', 0.1784510282713659),\n",
       "   ('job', 0.15958458789071867),\n",
       "   ('less', 0.15760089452374013),\n",
       "   ('month', 0.1462110779890985),\n",
       "   ('knowledg', 0.13985268341730112),\n",
       "   ('train', 0.13886525211057224),\n",
       "   ('lot', 0.1341174428143345),\n",
       "   ('peopl', 0.12817089713680382),\n",
       "   ('need', 0.12800908913101908),\n",
       "   ('manag', 0.12406546657881577),\n",
       "   ('though', 0.12315153143189651),\n",
       "   ('way', 0.11823783740421281)]),\n",
       " (1,\n",
       "  [('valu', -0.5521490603626135),\n",
       "   ('question', -0.26215653739111666),\n",
       "   ('read', -0.26032216832659927),\n",
       "   ('month', -0.250959929936329),\n",
       "   ('job', 0.246273485056497),\n",
       "   ('school', 0.18986565804830713),\n",
       "   ('scienc', 0.16106950166604941),\n",
       "   ('come', 0.13668739304605124),\n",
       "   ('ds', 0.136630066627096),\n",
       "   ('interview', 0.13276868357082838),\n",
       "   ('result', 0.1278853238355486),\n",
       "   ('math', 0.12119492672902045),\n",
       "   ('degre', 0.11485112055454096),\n",
       "   ('engin', 0.1133713466189721),\n",
       "   ('notebook', -0.11041578203391762)]),\n",
       " (2,\n",
       "  [('month', -0.507917263480754),\n",
       "   ('read', 0.443849224333338),\n",
       "   ('question', 0.4430273330011806),\n",
       "   ('consid', 0.17585635599461596),\n",
       "   ('pretti', -0.1585149292069612),\n",
       "   ('learn', 0.15343167146420902),\n",
       "   ('specif', 0.1413021800624411),\n",
       "   ('experi', -0.13838793422389448),\n",
       "   ('less', 0.13806666541402024),\n",
       "   ('valu', -0.12337490593809625),\n",
       "   ('two', -0.11624127543591875),\n",
       "   ('run', 0.11406732522116023),\n",
       "   ('project', 0.10220839183747349),\n",
       "   ('current', -0.09223806178413606),\n",
       "   ('open', 0.09096479938143567)]),\n",
       " (3,\n",
       "  [('month', 0.5690089042225515),\n",
       "   ('valu', -0.32071298291354733),\n",
       "   ('read', 0.27112275584702544),\n",
       "   ('question', 0.21279800390661147),\n",
       "   ('less', 0.20410577391281032),\n",
       "   ('stat', 0.17489944772129792),\n",
       "   ('write', -0.16093331051745272),\n",
       "   ('school', 0.14381121706550618),\n",
       "   ('pretti', 0.12788931774534515),\n",
       "   ('may', 0.12504062478983338),\n",
       "   ('lot', -0.12433907470823122),\n",
       "   ('notebook', -0.12191604427243577),\n",
       "   ('engin', 0.10468990024158754),\n",
       "   ('ml', -0.09761984937244243),\n",
       "   ('two', 0.09332189256436807)]),\n",
       " (4,\n",
       "  [('consid', -0.43471914179507987),\n",
       "   ('less', -0.3050718737744072),\n",
       "   ('read', 0.2726457757217453),\n",
       "   ('come', 0.23421624438551214),\n",
       "   ('job', 0.19685328006793032),\n",
       "   ('write', 0.191254751549871),\n",
       "   ('question', 0.18564726846251117),\n",
       "   ('may', -0.17998292489304515),\n",
       "   ('stat', -0.16473357207242648),\n",
       "   ('program', 0.14165371472527605),\n",
       "   ('scienc', 0.13637082711879703),\n",
       "   ('better', -0.13472999543289704),\n",
       "   ('valu', -0.1312515384317508),\n",
       "   ('school', -0.1259562971829348),\n",
       "   ('month', 0.12557886393903123)]),\n",
       " (5,\n",
       "  [('valu', -0.48918655674943473),\n",
       "   ('peopl', 0.21607566509869378),\n",
       "   ('job', -0.2159448238988607),\n",
       "   ('practic', 0.18090480825790592),\n",
       "   ('appli', 0.17645461942372317),\n",
       "   ('real', 0.15839619209967004),\n",
       "   ('math', -0.15615670290304665),\n",
       "   ('result', -0.13988670792525537),\n",
       "   ('expect', -0.13600185187780298),\n",
       "   ('depend', 0.1344421513292491),\n",
       "   ('degre', -0.12926084644478494),\n",
       "   ('engin', -0.12737687381904333),\n",
       "   ('manag', 0.12573228157991792),\n",
       "   ('knowledg', 0.12037162796015659),\n",
       "   ('project', -0.12010268905514954)])]"
      ]
     },
     "execution_count": 33,
     "metadata": {},
     "output_type": "execute_result"
    }
   ],
   "source": [
    "# for X1\n",
    "lsi = models.LsiModel(tfidf_corpus1, id2word=id2word1, num_topics=6)\n",
    "lsi.show_topics(300,15,formatted=False)"
   ]
  },
  {
   "cell_type": "code",
   "execution_count": 34,
   "metadata": {},
   "outputs": [
    {
     "data": {
      "text/plain": [
       "[(0,\n",
       "  [('work', 0.22358254110002737),\n",
       "   ('us', 0.18381595324184039),\n",
       "   ('go', 0.1823912020032431),\n",
       "   ('role', 0.17292972509071147),\n",
       "   ('kind', 0.1660798838381102),\n",
       "   ('level', 0.15308706323808907),\n",
       "   ('part', 0.14903378910913048),\n",
       "   ('model', 0.14866652607769593),\n",
       "   ('compani', 0.1477508012570105),\n",
       "   ('time', 0.13678436164495184),\n",
       "   ('need', 0.13301605616898882),\n",
       "   ('manag', 0.12467245860014585),\n",
       "   ('think', 0.12423360397779418),\n",
       "   ('languag', 0.12002178897454549),\n",
       "   ('hard', 0.11761683530067796)]),\n",
       " (1,\n",
       "  [('model', 0.43024601920431343),\n",
       "   ('us', 0.3506313894293377),\n",
       "   ('kind', -0.27573438079847096),\n",
       "   ('role', -0.23365135966037462),\n",
       "   ('field', 0.21492158034686737),\n",
       "   ('compani', -0.16684885880804964),\n",
       "   ('posit', 0.15321526268319383),\n",
       "   ('ds', -0.13939669258532683),\n",
       "   ('problem', -0.13517227413299335),\n",
       "   ('dataset', 0.1314939463791949),\n",
       "   ('degre', -0.1305545193792542),\n",
       "   ('run', -0.12979360364753068),\n",
       "   ('put', 0.1287216897953656),\n",
       "   ('research', -0.1255924611887838),\n",
       "   ('train', 0.11404377125452703)]),\n",
       " (2,\n",
       "  [('program', 0.3721833327342172),\n",
       "   ('put', 0.3709436803345608),\n",
       "   ('problem', 0.2872967590747771),\n",
       "   ('level', 0.25324260739839993),\n",
       "   ('compani', -0.2217934138497132),\n",
       "   ('role', 0.19463636754928507),\n",
       "   ('less', 0.18320913477524664),\n",
       "   ('market', -0.16113094802244685),\n",
       "   ('cours', 0.15771365865597453),\n",
       "   ('math', 0.14931347205799114),\n",
       "   ('talk', -0.14899582280521045),\n",
       "   ('sql', 0.14338829369433928),\n",
       "   ('us', 0.13932690929049452),\n",
       "   ('master', 0.1385554815529549),\n",
       "   ('work', -0.13147075472339886)]),\n",
       " (3,\n",
       "  [('model', -0.4787396740967152),\n",
       "   ('role', -0.31806644230642284),\n",
       "   ('program', 0.27577819504605333),\n",
       "   ('put', 0.24530825269704837),\n",
       "   ('enough', -0.17820922678994344),\n",
       "   ('posit', -0.17212902969556468),\n",
       "   ('run', -0.16524720827866474),\n",
       "   ('job', 0.14551036217511235),\n",
       "   ('code', 0.13560573242895738),\n",
       "   ('field', -0.13422187693392582),\n",
       "   ('problem', -0.13054894137106765),\n",
       "   ('sql', -0.12703598470935726),\n",
       "   ('less', 0.12700687585369297),\n",
       "   ('math', -0.11701142933886469),\n",
       "   ('first', -0.11351321973052159)]),\n",
       " (4,\n",
       "  [('talk', 0.30010387785157655),\n",
       "   ('put', 0.2624158779247698),\n",
       "   ('compani', 0.254118196763662),\n",
       "   ('program', 0.2528950998287767),\n",
       "   ('run', 0.19292758945696684),\n",
       "   ('enough', 0.18225896401931416),\n",
       "   ('level', -0.17517056650845814),\n",
       "   ('cours', -0.16773500255583298),\n",
       "   ('analyst', 0.1603066849118857),\n",
       "   ('go', -0.1581528299434365),\n",
       "   ('research', 0.14745838226509228),\n",
       "   ('build', 0.14588771740167877),\n",
       "   ('field', -0.14071463197329964),\n",
       "   ('tri', -0.13581189601860133),\n",
       "   ('expect', 0.1316705468597616)]),\n",
       " (5,\n",
       "  [('job', 0.39755484881005426),\n",
       "   ('project', 0.26370228728988243),\n",
       "   ('code', -0.2614955277142584),\n",
       "   ('process', -0.20649146152571832),\n",
       "   ('predict', 0.20635467122268633),\n",
       "   ('talk', -0.19945119717270596),\n",
       "   ('work', -0.19794371313861917),\n",
       "   ('model', 0.17708120889190762),\n",
       "   ('field', -0.16609972740845386),\n",
       "   ('around', 0.16378969738210025),\n",
       "   ('languag', 0.15865335139528638),\n",
       "   ('program', 0.1508748235156408),\n",
       "   ('put', 0.14691018688480453),\n",
       "   ('idea', 0.13899123125102023),\n",
       "   ('sinc', 0.129778948970656)])]"
      ]
     },
     "execution_count": 34,
     "metadata": {},
     "output_type": "execute_result"
    }
   ],
   "source": [
    "# for X2\n",
    "lsi = models.LsiModel(tfidf_corpus2, id2word=id2word2, num_topics=6)\n",
    "lsi.show_topics(300,15,formatted=False)\n",
    "\n",
    "#### DISTANCE METRIC. Intre vs Inter"
   ]
  },
  {
   "cell_type": "markdown",
   "metadata": {},
   "source": [
    "Project the tfidf vectors onto the first N principal components. Significantly fewer features than the original tfidf vector, but they are stronger features, and the accuracy is higher. "
   ]
  },
  {
   "cell_type": "code",
   "execution_count": 35,
   "metadata": {},
   "outputs": [
    {
     "ename": "AttributeError",
     "evalue": "'function' object has no attribute 'Normalizer'",
     "output_type": "error",
     "traceback": [
      "\u001b[0;31m---------------------------------------------------------------------------\u001b[0m",
      "\u001b[0;31mAttributeError\u001b[0m                            Traceback (most recent call last)",
      "\u001b[0;32m<ipython-input-35-f5d53c927f7f>\u001b[0m in \u001b[0;36m<module>\u001b[0;34m\u001b[0m\n\u001b[1;32m      1\u001b[0m \u001b[0;31m# for X1\u001b[0m\u001b[0;34m\u001b[0m\u001b[0;34m\u001b[0m\u001b[0;34m\u001b[0m\u001b[0m\n\u001b[1;32m      2\u001b[0m \u001b[0msvd_test\u001b[0m \u001b[0;34m=\u001b[0m \u001b[0mTruncatedSVD\u001b[0m\u001b[0;34m(\u001b[0m\u001b[0;36m10\u001b[0m\u001b[0;34m)\u001b[0m\u001b[0;34m\u001b[0m\u001b[0;34m\u001b[0m\u001b[0m\n\u001b[0;32m----> 3\u001b[0;31m \u001b[0mlsa_test\u001b[0m \u001b[0;34m=\u001b[0m \u001b[0mmake_pipeline\u001b[0m\u001b[0;34m(\u001b[0m\u001b[0msvd_test\u001b[0m\u001b[0;34m,\u001b[0m \u001b[0mpreprocessing\u001b[0m\u001b[0;34m.\u001b[0m\u001b[0mNormalizer\u001b[0m\u001b[0;34m(\u001b[0m\u001b[0mcopy\u001b[0m\u001b[0;34m=\u001b[0m\u001b[0;32mFalse\u001b[0m\u001b[0;34m)\u001b[0m\u001b[0;34m)\u001b[0m\u001b[0;34m\u001b[0m\u001b[0;34m\u001b[0m\u001b[0m\n\u001b[0m\u001b[1;32m      4\u001b[0m \u001b[0mfeat_names\u001b[0m \u001b[0;34m=\u001b[0m \u001b[0mvectorizer\u001b[0m\u001b[0;34m.\u001b[0m\u001b[0mget_feature_names\u001b[0m\u001b[0;34m(\u001b[0m\u001b[0;34m)\u001b[0m\u001b[0;34m\u001b[0m\u001b[0;34m\u001b[0m\u001b[0m\n\u001b[1;32m      5\u001b[0m \u001b[0;34m\u001b[0m\u001b[0m\n",
      "\u001b[0;31mAttributeError\u001b[0m: 'function' object has no attribute 'Normalizer'"
     ]
    }
   ],
   "source": [
    "# for X1\n",
    "svd_test = TruncatedSVD(10)\n",
    "lsa_test = make_pipeline(svd_test, preprocessing.Normalizer(copy=False))\n",
    "feat_names = vectorizer.get_feature_names()\n",
    "\n",
    "X_train_lsa = lsa_test.fit_transform(X_short)\n",
    "\n",
    "# The SVD matrix will have one row per component, and one column per feature\n",
    "# of the original data.\n",
    "\n",
    "for component_num in range(0, 5):\n",
    "\n",
    "    comp = svd_test.components_[component_num]\n",
    "    \n",
    "    # Sort the weights in the first component, and get the indeces.\n",
    "    indeces = np.argsort(comp).tolist()\n",
    "    \n",
    "    # Get largest weights first.\n",
    "    indeces.reverse()\n",
    "    \n",
    "    # Get top 10 terms with highest weight in this component.        \n",
    "    terms = [feat_names[weightIndex] for weightIndex in indeces[0:10]]    \n",
    "    weights = [comp[weightIndex] for weightIndex in indeces[0:10]]    \n",
    "   \n",
    "    # Plot terms and weights as a horizontal bar graph.    \n",
    "    # The horizontal bar graph displays the first item on the bottom; reverse\n",
    "    # the order of the terms so the biggest one is on top.\n",
    "    terms.reverse()\n",
    "    weights.reverse()\n",
    "    positions = range(10)    # the bar centers on the y axis\n",
    "    \n",
    "    plt.figure(component_num)\n",
    "    plt.barh(positions, weights, align='center')\n",
    "    plt.yticks(positions, terms)\n",
    "    plt.xlabel('Weight')\n",
    "    plt.title('Strongest terms for component %d' % (component_num))\n",
    "    plt.grid(True)\n",
    "    plt.show()"
   ]
  },
  {
   "cell_type": "code",
   "execution_count": null,
   "metadata": {},
   "outputs": [],
   "source": [
    "# for X2\n",
    "svd_test = TruncatedSVD(10)\n",
    "lsa_test = make_pipeline(svd_test, preprocessing.Normalizer(copy=False))\n",
    "feat_names = vectorizer2.get_feature_names()\n",
    "\n",
    "X_train_lsa = lsa_test.fit_transform(X_long)\n",
    "\n",
    "# The SVD matrix will have one row per component, and one column per feature\n",
    "# of the original data.\n",
    "\n",
    "for component_num in range(0, 5):\n",
    "\n",
    "    comp = svd_test.components_[component_num]\n",
    "    \n",
    "    # Sort the weights in the first component, and get the indeces.\n",
    "    indeces = np.argsort(comp).tolist()\n",
    "    \n",
    "    # Get largest weights first.\n",
    "    indeces.reverse()\n",
    "    \n",
    "    # Get top 10 terms with highest weight in this component.        \n",
    "    terms = [feat_names[weightIndex] for weightIndex in indeces[0:10]]    \n",
    "    weights = [comp[weightIndex] for weightIndex in indeces[0:10]]    \n",
    "   \n",
    "    # Plot terms and weights as a horizontal bar graph.    \n",
    "    # The horizontal bar graph displays the first item on the bottom; reverse\n",
    "    # the order of the terms so the biggest one is on top.\n",
    "    terms.reverse()\n",
    "    weights.reverse()\n",
    "    positions = range(10)    # the bar centers on the y axis\n",
    "    \n",
    "    plt.figure(component_num)\n",
    "    plt.barh(positions, weights, align='center')\n",
    "    plt.yticks(positions, terms)\n",
    "    plt.xlabel('Weight')\n",
    "    plt.title('Strongest terms for component %d' % (component_num))\n",
    "    plt.grid(True)\n",
    "    plt.show()\n",
    "    \n",
    "### top x bigrams\n",
    "\n",
    "### filter samples by the number of tokens. how many tokens is total after. distribution"
   ]
  },
  {
   "cell_type": "markdown",
   "metadata": {},
   "source": [
    "### Latent Semantic Analysis"
   ]
  },
  {
   "cell_type": "code",
   "execution_count": 36,
   "metadata": {},
   "outputs": [
    {
     "data": {
      "text/plain": [
       "6"
      ]
     },
     "execution_count": 36,
     "metadata": {},
     "output_type": "execute_result"
    }
   ],
   "source": [
    "from sklearn.decomposition import TruncatedSVD\n",
    "\n",
    "# SVD represent documents and terms in vectors \n",
    "svd_model = TruncatedSVD(n_components=6, algorithm='randomized', n_iter=100, random_state=122)\n",
    "\n",
    "svd_model.fit(X_short)\n",
    "\n",
    "len(svd_model.components_)"
   ]
  },
  {
   "cell_type": "code",
   "execution_count": 38,
   "metadata": {},
   "outputs": [
    {
     "name": "stdout",
     "output_type": "stream",
     "text": [
      "Topic 0: \n",
      "('valu', 0.2510219643418864)\n",
      " \n",
      "('write', 0.2141194641749164)\n",
      " \n",
      "('school', 0.1842608626170733)\n",
      " \n",
      "('general', 0.17845745577294306)\n",
      " \n",
      "('job', 0.15958326983291687)\n",
      " \n",
      "('less', 0.15760514390115193)\n",
      " \n",
      "('month', 0.14621205425967185)\n",
      " \n",
      "Topic 1: \n",
      "('valu', 0.5522456810880885)\n",
      " \n",
      "('question', 0.2618478287120751)\n",
      " \n",
      "('read', 0.2605043221169908)\n",
      " \n",
      "('month', 0.25100284581773796)\n",
      " \n",
      "('notebook', 0.11054100667741278)\n",
      " \n",
      "('chang', 0.11015997811252881)\n",
      " \n",
      "('open', 0.10533410100158537)\n",
      " \n",
      "Topic 2: \n",
      "('read', 0.4437968139190086)\n",
      " \n",
      "('question', 0.44270989545906875)\n",
      " \n",
      "('consid', 0.17620140471812795)\n",
      " \n",
      "('learn', 0.15427695382610698)\n",
      " \n",
      "('specif', 0.14102695683341585)\n",
      " \n",
      "('less', 0.1391652916503286)\n",
      " \n",
      "('run', 0.11455534635941948)\n",
      " \n",
      "Topic 3: \n",
      "('month', 0.5695743597238199)\n",
      " \n",
      "('read', 0.2710868860616366)\n",
      " \n",
      "('question', 0.21150616893221483)\n",
      " \n",
      "('less', 0.2062637066854733)\n",
      " \n",
      "('stat', 0.1755697640154135)\n",
      " \n",
      "('school', 0.14168890570351894)\n",
      " \n",
      "('pretti', 0.1289933009557725)\n",
      " \n",
      "Topic 4: \n",
      "('consid', 0.4353643485213028)\n",
      " \n",
      "('less', 0.3061449695615609)\n",
      " \n",
      "('may', 0.18020518749962655)\n",
      " \n",
      "('stat', 0.16357400506312578)\n",
      " \n",
      "('better', 0.13312838333723995)\n",
      " \n",
      "('valu', 0.13053978219306064)\n",
      " \n",
      "('school', 0.12703996720502814)\n",
      " \n",
      "Topic 5: \n",
      "('valu', 0.4900628248297777)\n",
      " \n",
      "('job', 0.21534934136567296)\n",
      " \n",
      "('math', 0.15670580345421536)\n",
      " \n",
      "('result', 0.13763789312859867)\n",
      " \n",
      "('expect', 0.13628752219071558)\n",
      " \n",
      "('degre', 0.13197464013866184)\n",
      " \n",
      "('engin', 0.12750971340416345)\n",
      " \n"
     ]
    }
   ],
   "source": [
    "terms = vectorizer.get_feature_names()\n",
    "\n",
    "for i, comp in enumerate(svd_model.components_):\n",
    "    terms_comp = zip(terms, comp)\n",
    "    sorted_terms = sorted(terms_comp, key= lambda x:x[1], reverse=True)[:7]\n",
    "    print(\"Topic \"+str(i)+\": \")\n",
    "    for t in sorted_terms:\n",
    "        #print(t[0])\n",
    "        print(t)\n",
    "        print(\" \")"
   ]
  },
  {
   "cell_type": "code",
   "execution_count": null,
   "metadata": {},
   "outputs": [],
   "source": [
    "#import umap\n",
    "import umap.umap_ as umap\n",
    "\n",
    "X_topics = svd_model.fit_transform(X1)\n",
    "embedding = umap.UMAP(n_neighbors=150, min_dist=0.5, random_state=12).fit_transform(X_topics)\n",
    "\n",
    "plt.figure(figsize=(7,5))\n",
    "plt.scatter(embedding[:, 0], embedding[:, 1], \n",
    "#c = dataset.target,\n",
    "s = 10, # size\n",
    "edgecolor='none'\n",
    ")\n",
    "plt.show()"
   ]
  },
  {
   "cell_type": "code",
   "execution_count": null,
   "metadata": {},
   "outputs": [],
   "source": [
    "### after token, stem, do a counter vectorizer or sum the tokens for each row. what's the length of the row. take a look at the distribution. plot. think about the weighting. \n",
    "### we want to remove the outlier counts. a normalized length for each comment. remove super short/long comments. it will add some bias. \n",
    "### medium comment/short comment/long comment similarity. "
   ]
  },
  {
   "cell_type": "markdown",
   "metadata": {},
   "source": [
    "### Frequency Study"
   ]
  },
  {
   "cell_type": "code",
   "execution_count": 51,
   "metadata": {},
   "outputs": [
    {
     "name": "stdout",
     "output_type": "stream",
     "text": [
      "('machine', 'learning') 374\n",
      "('r', 'python') 129\n",
      "('make', 'sure') 125\n",
      "('deep', 'learning') 119\n",
      "('software', 'engineering') 118\n",
      "('python', 'r') 109\n",
      "('computer', 'science') 107\n",
      "('entry', 'level') 97\n",
      "('can', 'not') 95\n",
      "('years', 'ago') 88\n",
      "('get', 'job') 85\n",
      "('linear', 'regression') 81\n",
      "('use', 'python') 78\n",
      "('years', 'experience') 76\n",
      "('5', 'years') 73\n",
      "('pretty', 'much') 70\n",
      "('10', 'years') 69\n",
      "('lot', 'people') 68\n",
      "('open', 'source') 68\n",
      "('domain', 'knowledge') 68\n",
      "('need', 'know') 67\n",
      "('linear', 'algebra') 67\n",
      "('thanks', 'sharing') 66\n",
      "('use', 'r') 62\n",
      "('work', 'experience') 62\n",
      "('time', 'series') 61\n",
      "('real', 'world') 60\n",
      "('2', 'years') 59\n",
      "('make', 'sense') 58\n",
      "('hiring', 'manager') 58\n",
      "('masters', 'degree') 57\n",
      "('web', 'scraping') 56\n",
      "('first', 'job') 55\n",
      "('gon', 'na') 55\n",
      "('logistic', 'regression') 50\n",
      "('much', 'better') 50\n",
      "('full', 'time') 49\n",
      "('problem', 'solving') 49\n",
      "('grad', 'school') 49\n",
      "('3', 'years') 48\n",
      "('software', 'engineer') 48\n",
      "('go', 'back') 48\n",
      "('jupyter', 'notebook') 47\n",
      "('random', 'forest') 47\n",
      "('software', 'engineers') 47\n",
      "('feature', 'engineering') 47\n",
      "('soft', 'skills') 45\n",
      "('job', 'market') 45\n",
      "('best', 'way') 45\n",
      "('doesnt', 'matter') 45\n",
      "('masters', 'science') 45\n",
      "('6', 'months') 44\n",
      "('neural', 'networks') 43\n",
      "('programming', 'language') 43\n",
      "('much', 'easier') 43\n",
      "('little', 'bit') 43\n",
      "('makes', 'sense') 42\n",
      "('science', 'job') 42\n",
      "('using', 'python') 41\n",
      "('want', 'work') 41\n",
      "('someone', 'else') 41\n",
      "('science', 'team') 41\n",
      "('want', 'get') 40\n",
      "('business', 'analytics') 40\n",
      "('python', 'sql') 39\n",
      "('every', 'day') 39\n",
      "('high', 'level') 39\n",
      "('end', 'day') 39\n",
      "('spend', 'time') 39\n",
      "('technical', 'skills') 39\n",
      "('need', 'learn') 39\n",
      "('last', 'year') 38\n",
      "('trying', 'get') 38\n",
      "('science', 'jobs') 38\n",
      "('jupyter', 'notebooks') 38\n",
      "('tech', 'companies') 37\n",
      "('let', 'know') 36\n",
      "('people', 'know') 36\n",
      "('hiring', 'managers') 36\n",
      "('didnt', 'know') 35\n",
      "('doesnt', 'mean') 35\n",
      "('want', 'know') 35\n",
      "('4', 'years') 34\n",
      "('long', 'time') 34\n",
      "('solve', 'problem') 34\n",
      "('youve', 'got') 34\n",
      "('software', 'development') 34\n",
      "('much', 'time') 33\n",
      "('learn', 'python') 33\n",
      "('learn', 'new') 33\n",
      "('social', 'media') 33\n",
      "('high', 'school') 33\n",
      "('personal', 'projects') 32\n",
      "('ask', 'questions') 32\n",
      "('using', 'r') 32\n",
      "('science', 'career') 32\n",
      "('new', 'job') 31\n",
      "('pandas', 'numpy') 31\n",
      "('solve', 'problems') 31\n",
      "('part', 'time') 31\n",
      "('want', 'use') 31\n",
      "('everything', 'else') 31\n",
      "('power', 'bi') 31\n",
      "('get', 'paid') 31\n",
      "('climate', 'change') 31\n"
     ]
    }
   ],
   "source": [
    "import nltk\n",
    "from nltk.tokenize import word_tokenize \n",
    "from nltk.collocations import BigramCollocationFinder\n",
    "\n",
    "stop_words = nltk_stop_words + more_stop_words\n",
    "comments_raw['COMMENTS'] = comments_raw['COMMENTS'].map(lambda text: \" \".join(word for word in text.split() if word not in stop_words))\n",
    "text = ' '.join(comments_raw['COMMENTS'])\n",
    "\n",
    "bigram_measures = nltk.collocations.BigramAssocMeasures()\n",
    "finder = BigramCollocationFinder.from_words(word_tokenize(text))\n",
    "    \n",
    "for k,v in sorted(finder.ngram_fd.items(), key=lambda item: item[1], reverse=True):\n",
    "    if v > 30:\n",
    "        print(k, v)"
   ]
  },
  {
   "cell_type": "code",
   "execution_count": 46,
   "metadata": {},
   "outputs": [
    {
     "name": "stdout",
     "output_type": "stream",
     "text": [
      "('machine', 'learning') 155\n",
      "('thanks', 'sharing') 65\n",
      "('r', 'python') 53\n",
      "('deep', 'learning') 52\n",
      "('python', 'r') 51\n",
      "('entry', 'level') 50\n",
      "('software', 'engineering') 49\n",
      "('can', 'not') 42\n",
      "('gon', 'na') 39\n",
      "('linear', 'algebra') 39\n",
      "('years', 'ago') 38\n",
      "('time', 'series') 38\n",
      "('linear', 'regression') 36\n",
      "('open', 'source') 35\n",
      "('get', 'job') 34\n",
      "('pretty', 'much') 34\n",
      "('years', 'experience') 33\n",
      "('masters', 'degree') 31\n",
      "('5', 'years') 30\n",
      "('logistic', 'regression') 30\n",
      "('need', 'know') 29\n",
      "('jupyter', 'notebook') 29\n",
      "('computer', 'science') 29\n",
      "('real', 'world') 29\n",
      "('use', 'python') 28\n",
      "('make', 'sure') 28\n",
      "('work', 'experience') 27\n",
      "('lot', 'people') 27\n",
      "('jupyter', 'notebooks') 27\n",
      "('much', 'better') 26\n",
      "('software', 'engineer') 26\n",
      "('first', 'job') 26\n",
      "('use', 'r') 25\n",
      "('job', 'market') 25\n",
      "('10', 'years') 24\n",
      "('3', 'years') 23\n",
      "('soft', 'skills') 23\n",
      "('open', 'office') 23\n",
      "('2', 'years') 22\n",
      "('didnt', 'know') 22\n",
      "('domain', 'knowledge') 22\n",
      "('learning', 'science') 21\n",
      "('programming', 'language') 21\n"
     ]
    }
   ],
   "source": [
    "comments_short['COMMENTS'] = comments_short['COMMENTS'].map(lambda text: \" \".join(word for word in text.split() if word not in stop_words))\n",
    "text = ' '.join(comments_short['COMMENTS'])\n",
    "\n",
    "\n",
    "bigram_measures = nltk.collocations.BigramAssocMeasures()\n",
    "finder = BigramCollocationFinder.from_words(word_tokenize(text))\n",
    "    \n",
    "for k,v in sorted(finder.ngram_fd.items(), key=lambda item: item[1], reverse=True):\n",
    "    if v > 20:\n",
    "        print(k, v)"
   ]
  },
  {
   "cell_type": "code",
   "execution_count": 47,
   "metadata": {
    "scrolled": true
   },
   "outputs": [
    {
     "name": "stdout",
     "output_type": "stream",
     "text": [
      "('machine', 'learning') 217\n",
      "('make', 'sure') 97\n",
      "('computer', 'science') 77\n",
      "('r', 'python') 75\n",
      "('software', 'engineering') 68\n",
      "('deep', 'learning') 67\n",
      "('python', 'r') 59\n",
      "('can', 'not') 53\n",
      "('get', 'job') 51\n",
      "('use', 'python') 50\n",
      "('years', 'ago') 49\n",
      "('entry', 'level') 47\n",
      "('domain', 'knowledge') 46\n",
      "('10', 'years') 45\n",
      "('linear', 'regression') 45\n",
      "('5', 'years') 43\n",
      "('years', 'experience') 43\n",
      "('web', 'scraping') 42\n",
      "('lot', 'people') 41\n",
      "('hiring', 'manager') 40\n",
      "('need', 'know') 38\n",
      "('make', 'sense') 38\n",
      "('use', 'r') 37\n",
      "('2', 'years') 37\n",
      "('random', 'forest') 37\n",
      "('pretty', 'much') 36\n",
      "('problem', 'solving') 34\n",
      "('work', 'experience') 34\n",
      "('go', 'back') 33\n",
      "('open', 'source') 33\n",
      "('grad', 'school') 33\n",
      "('software', 'engineers') 32\n",
      "('6', 'months') 32\n",
      "('feature', 'engineering') 32\n",
      "('little', 'bit') 31\n",
      "('doesnt', 'matter') 31\n",
      "('real', 'world') 31\n",
      "('masters', 'science') 30\n",
      "('neural', 'networks') 30\n",
      "('much', 'easier') 30\n",
      "('first', 'job') 29\n",
      "('pandas', 'numpy') 29\n",
      "('high', 'level') 29\n",
      "('linear', 'algebra') 28\n",
      "('end', 'day') 28\n",
      "('full', 'time') 28\n",
      "('science', 'job') 27\n",
      "('every', 'day') 27\n",
      "('best', 'way') 27\n",
      "('want', 'know') 27\n",
      "('someone', 'else') 26\n",
      "('masters', 'degree') 26\n",
      "('spend', 'time') 26\n",
      "('decision', 'trees') 26\n",
      "('science', 'team') 26\n",
      "('hiring', 'managers') 26\n",
      "('science', 'jobs') 25\n",
      "('3', 'years') 25\n",
      "('makes', 'sense') 25\n",
      "('ask', 'questions') 24\n",
      "('much', 'better') 24\n",
      "('technical', 'skills') 24\n",
      "('need', 'learn') 24\n",
      "('9th', 'circuit') 24\n",
      "('circuit', 'court') 24\n",
      "('court', 'appeals') 24\n",
      "('circuit', 'courts') 24\n",
      "('python', 'sql') 23\n",
      "('current', 'job') 23\n",
      "('amount', 'time') 23\n",
      "('solve', 'problem') 23\n",
      "('time', 'series') 23\n",
      "('recommendation', 'system') 23\n",
      "('find', 'job') 22\n",
      "('soft', 'skills') 22\n",
      "('last', 'year') 22\n",
      "('everything', 'else') 22\n",
      "('software', 'engineer') 22\n",
      "('want', 'work') 22\n",
      "('business', 'analytics') 22\n",
      "('write', 'code') 22\n",
      "('programming', 'language') 22\n",
      "('libraries', 'use') 22\n",
      "('steps', 'take') 22\n",
      "('climate', 'change') 22\n",
      "('think', 'people') 21\n",
      "('learn', 'new') 21\n",
      "('solve', 'problems') 21\n",
      "('using', 'python') 21\n",
      "('people', 'know') 21\n",
      "('want', 'get') 21\n",
      "('doesnt', 'mean') 21\n",
      "('software', 'development') 21\n",
      "('answer', 'question') 21\n",
      "('high', 'school') 21\n",
      "('learning', 'algos') 21\n",
      "('use', 'linear') 21\n"
     ]
    }
   ],
   "source": [
    "comments_long['COMMENTS'] = comments_long['COMMENTS'].map(lambda text: \" \".join(word for word in text.split() if word not in stop_words))\n",
    "text = ' '.join(comments_long['COMMENTS'])\n",
    "\n",
    "\n",
    "bigram_measures = nltk.collocations.BigramAssocMeasures()\n",
    "finder = BigramCollocationFinder.from_words(word_tokenize(text))\n",
    "    \n",
    "for k,v in sorted(finder.ngram_fd.items(), key=lambda item: item[1], reverse=True):\n",
    "    if v > 20:\n",
    "        print(k, v)"
   ]
  },
  {
   "cell_type": "code",
   "execution_count": 63,
   "metadata": {},
   "outputs": [
    {
     "data": {
      "text/html": [
       "<div>\n",
       "<style scoped>\n",
       "    .dataframe tbody tr th:only-of-type {\n",
       "        vertical-align: middle;\n",
       "    }\n",
       "\n",
       "    .dataframe tbody tr th {\n",
       "        vertical-align: top;\n",
       "    }\n",
       "\n",
       "    .dataframe thead th {\n",
       "        text-align: right;\n",
       "    }\n",
       "</style>\n",
       "<table border=\"1\" class=\"dataframe\">\n",
       "  <thead>\n",
       "    <tr style=\"text-align: right;\">\n",
       "      <th></th>\n",
       "      <th>Word</th>\n",
       "      <th>Frequency</th>\n",
       "    </tr>\n",
       "  </thead>\n",
       "  <tbody>\n",
       "    <tr>\n",
       "      <th>793</th>\n",
       "      <td>bootcamp</td>\n",
       "      <td>72</td>\n",
       "    </tr>\n",
       "  </tbody>\n",
       "</table>\n",
       "</div>"
      ],
      "text/plain": [
       "         Word  Frequency\n",
       "793  bootcamp         72"
      ]
     },
     "execution_count": 63,
     "metadata": {},
     "output_type": "execute_result"
    }
   ],
   "source": [
    "from nltk.probability import FreqDist # this also uses Counter. \n",
    "\n",
    "\n",
    "unigram_list = FreqDist(' '.join(comments_raw['COMMENTS']).split()).most_common(1000)\n",
    "#' '.join(ds_comments_raw['Comments']).split()\n",
    "\n",
    "unigram_df = pd.DataFrame(unigram_list, columns=[\"Word\", \"Frequency\"])\n",
    "unigram_df[unigram_df['Word'] == 'bootcamp']"
   ]
  },
  {
   "cell_type": "code",
   "execution_count": 49,
   "metadata": {},
   "outputs": [
    {
     "data": {
      "text/html": [
       "<div>\n",
       "<style scoped>\n",
       "    .dataframe tbody tr th:only-of-type {\n",
       "        vertical-align: middle;\n",
       "    }\n",
       "\n",
       "    .dataframe tbody tr th {\n",
       "        vertical-align: top;\n",
       "    }\n",
       "\n",
       "    .dataframe thead th {\n",
       "        text-align: right;\n",
       "    }\n",
       "</style>\n",
       "<table border=\"1\" class=\"dataframe\">\n",
       "  <thead>\n",
       "    <tr style=\"text-align: right;\">\n",
       "      <th></th>\n",
       "      <th>Word</th>\n",
       "      <th>Frequency</th>\n",
       "    </tr>\n",
       "  </thead>\n",
       "  <tbody>\n",
       "    <tr>\n",
       "      <th>0</th>\n",
       "      <td>science</td>\n",
       "      <td>1056</td>\n",
       "    </tr>\n",
       "    <tr>\n",
       "      <th>1</th>\n",
       "      <td>work</td>\n",
       "      <td>884</td>\n",
       "    </tr>\n",
       "    <tr>\n",
       "      <th>2</th>\n",
       "      <td>get</td>\n",
       "      <td>809</td>\n",
       "    </tr>\n",
       "    <tr>\n",
       "      <th>3</th>\n",
       "      <td>use</td>\n",
       "      <td>711</td>\n",
       "    </tr>\n",
       "    <tr>\n",
       "      <th>4</th>\n",
       "      <td>know</td>\n",
       "      <td>676</td>\n",
       "    </tr>\n",
       "    <tr>\n",
       "      <th>5</th>\n",
       "      <td>python</td>\n",
       "      <td>668</td>\n",
       "    </tr>\n",
       "    <tr>\n",
       "      <th>6</th>\n",
       "      <td>people</td>\n",
       "      <td>665</td>\n",
       "    </tr>\n",
       "    <tr>\n",
       "      <th>7</th>\n",
       "      <td>job</td>\n",
       "      <td>662</td>\n",
       "    </tr>\n",
       "    <tr>\n",
       "      <th>8</th>\n",
       "      <td>time</td>\n",
       "      <td>614</td>\n",
       "    </tr>\n",
       "    <tr>\n",
       "      <th>9</th>\n",
       "      <td>r</td>\n",
       "      <td>575</td>\n",
       "    </tr>\n",
       "    <tr>\n",
       "      <th>10</th>\n",
       "      <td>think</td>\n",
       "      <td>570</td>\n",
       "    </tr>\n",
       "    <tr>\n",
       "      <th>11</th>\n",
       "      <td>need</td>\n",
       "      <td>497</td>\n",
       "    </tr>\n",
       "    <tr>\n",
       "      <th>12</th>\n",
       "      <td>want</td>\n",
       "      <td>485</td>\n",
       "    </tr>\n",
       "    <tr>\n",
       "      <th>13</th>\n",
       "      <td>learning</td>\n",
       "      <td>484</td>\n",
       "    </tr>\n",
       "    <tr>\n",
       "      <th>14</th>\n",
       "      <td>much</td>\n",
       "      <td>463</td>\n",
       "    </tr>\n",
       "    <tr>\n",
       "      <th>15</th>\n",
       "      <td>lot</td>\n",
       "      <td>451</td>\n",
       "    </tr>\n",
       "    <tr>\n",
       "      <th>16</th>\n",
       "      <td>make</td>\n",
       "      <td>408</td>\n",
       "    </tr>\n",
       "    <tr>\n",
       "      <th>17</th>\n",
       "      <td>ds</td>\n",
       "      <td>401</td>\n",
       "    </tr>\n",
       "    <tr>\n",
       "      <th>18</th>\n",
       "      <td>experience</td>\n",
       "      <td>399</td>\n",
       "    </tr>\n",
       "    <tr>\n",
       "      <th>19</th>\n",
       "      <td>well</td>\n",
       "      <td>387</td>\n",
       "    </tr>\n",
       "  </tbody>\n",
       "</table>\n",
       "</div>"
      ],
      "text/plain": [
       "          Word  Frequency\n",
       "0      science       1056\n",
       "1         work        884\n",
       "2          get        809\n",
       "3          use        711\n",
       "4         know        676\n",
       "5       python        668\n",
       "6       people        665\n",
       "7          job        662\n",
       "8         time        614\n",
       "9            r        575\n",
       "10       think        570\n",
       "11        need        497\n",
       "12        want        485\n",
       "13    learning        484\n",
       "14        much        463\n",
       "15         lot        451\n",
       "16        make        408\n",
       "17          ds        401\n",
       "18  experience        399\n",
       "19        well        387"
      ]
     },
     "execution_count": 49,
     "metadata": {},
     "output_type": "execute_result"
    }
   ],
   "source": [
    "from nltk.probability import FreqDist # this also uses Counter. \n",
    "\n",
    "\n",
    "unigram_list = FreqDist(' '.join(comments_short['COMMENTS']).split()).most_common(100)\n",
    "#' '.join(ds_comments_raw['Comments']).split()\n",
    "\n",
    "unigram_df = pd.DataFrame(unigram_list, columns=[\"Word\", \"Frequency\"])\n",
    "unigram_df.head(20)"
   ]
  },
  {
   "cell_type": "code",
   "execution_count": 50,
   "metadata": {},
   "outputs": [
    {
     "data": {
      "text/html": [
       "<div>\n",
       "<style scoped>\n",
       "    .dataframe tbody tr th:only-of-type {\n",
       "        vertical-align: middle;\n",
       "    }\n",
       "\n",
       "    .dataframe tbody tr th {\n",
       "        vertical-align: top;\n",
       "    }\n",
       "\n",
       "    .dataframe thead th {\n",
       "        text-align: right;\n",
       "    }\n",
       "</style>\n",
       "<table border=\"1\" class=\"dataframe\">\n",
       "  <thead>\n",
       "    <tr style=\"text-align: right;\">\n",
       "      <th></th>\n",
       "      <th>Word</th>\n",
       "      <th>Frequency</th>\n",
       "    </tr>\n",
       "  </thead>\n",
       "  <tbody>\n",
       "    <tr>\n",
       "      <th>0</th>\n",
       "      <td>work</td>\n",
       "      <td>1291</td>\n",
       "    </tr>\n",
       "    <tr>\n",
       "      <th>1</th>\n",
       "      <td>science</td>\n",
       "      <td>1222</td>\n",
       "    </tr>\n",
       "    <tr>\n",
       "      <th>2</th>\n",
       "      <td>get</td>\n",
       "      <td>1144</td>\n",
       "    </tr>\n",
       "    <tr>\n",
       "      <th>3</th>\n",
       "      <td>people</td>\n",
       "      <td>1050</td>\n",
       "    </tr>\n",
       "    <tr>\n",
       "      <th>4</th>\n",
       "      <td>job</td>\n",
       "      <td>914</td>\n",
       "    </tr>\n",
       "    <tr>\n",
       "      <th>5</th>\n",
       "      <td>time</td>\n",
       "      <td>908</td>\n",
       "    </tr>\n",
       "    <tr>\n",
       "      <th>6</th>\n",
       "      <td>think</td>\n",
       "      <td>824</td>\n",
       "    </tr>\n",
       "    <tr>\n",
       "      <th>7</th>\n",
       "      <td>need</td>\n",
       "      <td>792</td>\n",
       "    </tr>\n",
       "    <tr>\n",
       "      <th>8</th>\n",
       "      <td>use</td>\n",
       "      <td>779</td>\n",
       "    </tr>\n",
       "    <tr>\n",
       "      <th>9</th>\n",
       "      <td>python</td>\n",
       "      <td>776</td>\n",
       "    </tr>\n",
       "    <tr>\n",
       "      <th>10</th>\n",
       "      <td>know</td>\n",
       "      <td>739</td>\n",
       "    </tr>\n",
       "    <tr>\n",
       "      <th>11</th>\n",
       "      <td>want</td>\n",
       "      <td>685</td>\n",
       "    </tr>\n",
       "    <tr>\n",
       "      <th>12</th>\n",
       "      <td>r</td>\n",
       "      <td>643</td>\n",
       "    </tr>\n",
       "    <tr>\n",
       "      <th>13</th>\n",
       "      <td>lot</td>\n",
       "      <td>621</td>\n",
       "    </tr>\n",
       "    <tr>\n",
       "      <th>14</th>\n",
       "      <td>make</td>\n",
       "      <td>609</td>\n",
       "    </tr>\n",
       "    <tr>\n",
       "      <th>15</th>\n",
       "      <td>much</td>\n",
       "      <td>589</td>\n",
       "    </tr>\n",
       "    <tr>\n",
       "      <th>16</th>\n",
       "      <td>learning</td>\n",
       "      <td>581</td>\n",
       "    </tr>\n",
       "    <tr>\n",
       "      <th>17</th>\n",
       "      <td>experience</td>\n",
       "      <td>577</td>\n",
       "    </tr>\n",
       "    <tr>\n",
       "      <th>18</th>\n",
       "      <td>things</td>\n",
       "      <td>553</td>\n",
       "    </tr>\n",
       "    <tr>\n",
       "      <th>19</th>\n",
       "      <td>ds</td>\n",
       "      <td>542</td>\n",
       "    </tr>\n",
       "  </tbody>\n",
       "</table>\n",
       "</div>"
      ],
      "text/plain": [
       "          Word  Frequency\n",
       "0         work       1291\n",
       "1      science       1222\n",
       "2          get       1144\n",
       "3       people       1050\n",
       "4          job        914\n",
       "5         time        908\n",
       "6        think        824\n",
       "7         need        792\n",
       "8          use        779\n",
       "9       python        776\n",
       "10        know        739\n",
       "11        want        685\n",
       "12           r        643\n",
       "13         lot        621\n",
       "14        make        609\n",
       "15        much        589\n",
       "16    learning        581\n",
       "17  experience        577\n",
       "18      things        553\n",
       "19          ds        542"
      ]
     },
     "execution_count": 50,
     "metadata": {},
     "output_type": "execute_result"
    }
   ],
   "source": [
    "from nltk.probability import FreqDist # this also uses Counter. \n",
    "\n",
    "\n",
    "unigram_list = FreqDist(' '.join(comments_long['COMMENTS']).split()).most_common(100)\n",
    "#' '.join(ds_comments_raw['Comments']).split()\n",
    "\n",
    "unigram_df = pd.DataFrame(unigram_list, columns=[\"Word\", \"Frequency\"])\n",
    "unigram_df.head(20)"
   ]
  },
  {
   "cell_type": "markdown",
   "metadata": {},
   "source": [
    "12/04/20\n",
    "Take a look at the bootcamp comments for the last six months (check the data source)| or 3 months\n",
    "Generate a report for marketing. "
   ]
  },
  {
   "cell_type": "code",
   "execution_count": 54,
   "metadata": {},
   "outputs": [
    {
     "data": {
      "text/plain": [
       "True"
      ]
     },
     "execution_count": 54,
     "metadata": {},
     "output_type": "execute_result"
    }
   ],
   "source": [
    "'bootcamp' ' '.join(comments_raw['COMMENTS'])"
   ]
  },
  {
   "cell_type": "code",
   "execution_count": null,
   "metadata": {},
   "outputs": [],
   "source": []
  }
 ],
 "metadata": {
  "kernelspec": {
   "display_name": "Python 3",
   "language": "python",
   "name": "python3"
  },
  "language_info": {
   "codemirror_mode": {
    "name": "ipython",
    "version": 3
   },
   "file_extension": ".py",
   "mimetype": "text/x-python",
   "name": "python",
   "nbconvert_exporter": "python",
   "pygments_lexer": "ipython3",
   "version": "3.7.6"
  }
 },
 "nbformat": 4,
 "nbformat_minor": 4
}
